{
 "cells": [
  {
   "cell_type": "markdown",
   "metadata": {},
   "source": [
    "# Useful Probability Distributions\n",
    "## Distributions over integers\n",
    "### Binomial \n",
    "The binomial distribution for an integer $r$ with parameters $f$ (the bias or probability of one trial happens, $f \\in [0,1]$) and $N$ (the number of trails) is:\n",
    "$$\n",
    "P(r | f, N) = \\binom{N}{r}f^r(1-f)^{N-r} \\enspace\\enspace r \\in \\{0,1,2, ... , N\\}.\n",
    "$$"
   ]
  },
  {
   "cell_type": "code",
   "execution_count": 13,
   "metadata": {
    "collapsed": false
   },
   "outputs": [
    {
     "data": {
      "image/png": "[encoded data removed]",
      "text/plain": [
       "<matplotlib.figure.Figure at 0x10a1868d0>"
      ]
     },
     "metadata": {},
     "output_type": "display_data"
    }
   ],
   "source": [
    "import operator as op\n",
    "import matplotlib.pyplot as plt\n",
    "\n",
    "\n",
    "def nCr(n, r):\n",
    "    r = min(r, n-r)\n",
    "    if r == 0: return 1\n",
    "    numer = reduce(op.mul, xrange(n, n-r, -1))\n",
    "    denom = reduce(op.mul, xrange(1, r+1))\n",
    "    return numer//denom\n",
    "\n",
    "# generate the binomial distribition for parameters: f and N\n",
    "def binomial(f, N):\n",
    "    return [nCr(N,i)*(f**i)*((1-f)**(N-i)) for i in range(N+1)]\n",
    "\n",
    "if __name__ == \"__main__\":\n",
    "    N = 10\n",
    "    f = 0.5\n",
    "    fig, (ax1, ax2) = plt.subplots(1,2)\n",
    "    ax1.bar(range(N+1), binomial(f, N), width=0.1, color='green')\n",
    "    ax1.set_title(r'f = %f, N = %d' %(f, N))\n",
    "    \n",
    "    f= 0.3\n",
    "    ax2.bar(range(N+1), binomial(f, N), width=0.1, color='red')\n",
    "    ax2.set_title(r'f = %f, N = %d' %(f, N))\n",
    "    \n",
    "    #plt.title(\"Binomial Distributions\")\n",
    "    plt.show()"
   ]
  },
  {
   "cell_type": "markdown",
   "metadata": {},
   "source": [
    "### Poisson \n",
    "Poisson distribution with parameter $\\lambda > 0$ is:\n",
    "$$\n",
    "P(r|\\lambda) = \\exp^{-\\lambda} \\frac{\\lambda ^{r}}{r!} \\enspace \\enspace r \\in \\{0,1,2, ...\\}.\n",
    "$$"
   ]
  },
  {
   "cell_type": "code",
   "execution_count": null,
   "metadata": {
    "collapsed": true
   },
   "outputs": [],
   "source": [
    "import operator as op\n",
    "import matplotlib.pyplot as plt\n",
    "\n",
    "\n",
    "def nCr(n, r):\n",
    "    r = min(r, n-r)\n",
    "    if r == 0: return 1\n",
    "    numer = reduce(op.mul, xrange(n, n-r, -1))\n",
    "    denom = reduce(op.mul, xrange(1, r+1))\n",
    "    return numer//denom\n",
    "\n",
    "# generate the binomial distribition for parameters: f and N\n",
    "def poisson(f, N):\n",
    "    return [nCr(N,i)*(f**i)*((1-f)**(N-i)) for i in range(N+1)]\n",
    "\n",
    "if __name__ == \"__main__\":\n",
    "    N = 10\n",
    "    f = 0.5\n",
    "    fig, (ax1, ax2) = plt.subplots(1,2)\n",
    "    ax1.bar(range(N+1), binomial(f, N), width=0.1, color='green')\n",
    "    ax1.set_title(r'f = %f, N = %d' %(f, N))\n",
    "    \n",
    "    #plt.title(\"Binomial Distributions\")\n",
    "    plt.show()"
   ]
  }
 ],
 "metadata": {
  "kernelspec": {
   "display_name": "Python 2",
   "language": "python",
   "name": "python2"
  },
  "language_info": {
   "codemirror_mode": {
    "name": "ipython",
    "version": 2
   },
   "file_extension": ".py",
   "mimetype": "text/x-python",
   "name": "python",
   "nbconvert_exporter": "python",
   "pygments_lexer": "ipython2",
   "version": "2.7.11"
  }
 },
 "nbformat": 4,
 "nbformat_minor": 1
}
