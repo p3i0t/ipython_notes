{
 "cells": [
  {
   "cell_type": "markdown",
   "metadata": {},
   "source": [
    "# Answer Selection\n",
    "## Problem Definition\n",
    "Answer sentence selection is defined to be classification problem. Given a set of questions $Q$, where each $q_i$ corresponding to a list of answer candidates $\\{a_{i1}, ... , a_{im}\\}$ and the relateness list $\\{y_{i1}, ... , y_{im}\\}$, where $y_{ij}=1$ if qa pair $(q_i, a_{ij})$ is related and $y_{ij}=0$ otherwise.\n",
    "\n",
    "Usually, both questions and answers are mapped into a shared vector space with, say, k dimension, in which their relatedness are measured.\n",
    "\n",
    "Following [bilinear model paper](https://arxiv.org/pdf/1404.4326v1.pdf), given the vector representation of a question $q \\in R^{k}$ and an answer $a\\in R^{k}$, the probability of the answer being correct is \n",
    "$$p(y=1| q, a) = \\sigma (q^{T}Ma +b)$$\n",
    "where $M$ is a $k*k$ matrix, which can be seen as transformation matrix. Denote $q\\prime = Ma$, which can be seen as a question generated from answer $a$. Then the dot production $qq\\prime$ serves as the matching score and squashed by sigmoid to a probability.\n",
    "\n",
    "The total loss function is:\n",
    "$$L = -\\sum^{n}_{i} \\log p(y=1|q_i,a_i) + \\frac{\\lambda}{2} ||M||_{F}^{2}$$\n"
   ]
  },
  {
   "cell_type": "code",
   "execution_count": null,
   "metadata": {
    "collapsed": true
   },
   "outputs": [],
   "source": []
  }
 ],
 "metadata": {
  "kernelspec": {
   "display_name": "Python 2",
   "language": "python",
   "name": "python2"
  },
  "language_info": {
   "codemirror_mode": {
    "name": "ipython",
    "version": 2
   },
   "file_extension": ".py",
   "mimetype": "text/x-python",
   "name": "python",
   "nbconvert_exporter": "python",
   "pygments_lexer": "ipython2",
   "version": "2.7.11"
  }
 },
 "nbformat": 4,
 "nbformat_minor": 1
}
