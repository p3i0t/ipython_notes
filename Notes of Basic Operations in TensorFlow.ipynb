{
 "cells": [
  {
   "cell_type": "markdown",
   "metadata": {},
   "source": [
    "# Basic Operations in TensorFlow"
   ]
  },
  {
   "cell_type": "code",
   "execution_count": 2,
   "metadata": {
    "collapsed": true
   },
   "outputs": [],
   "source": [
    "import tensorflow as tf\n",
    "import numpy as np\n",
    "\n",
    "# create a matrix as Tensor\n",
    "m = np.array([[1, 2, 3, 4, 5],\n",
    "              [6, 7, 8, 3, 4],\n",
    "              [-4,-8,5,-5, 2]])\n",
    "\n",
    "# Default session for evaluation\n",
    "sess = tf.Session()"
   ]
  },
  {
   "cell_type": "markdown",
   "metadata": {},
   "source": [
    "## tf.argmax()\n",
    "inputs:\n",
    "\n",
    "tensor,\n",
    "\n",
    "dimension: the dimension the op will reduce to, 0 means reducing to a row, i.e get the maximum of each column."
   ]
  },
  {
   "cell_type": "code",
   "execution_count": 3,
   "metadata": {
    "collapsed": false
   },
   "outputs": [
    {
     "name": "stdout",
     "output_type": "stream",
     "text": [
      "column-wise argmax:  [1 1 1 0 0]\n",
      "row-wise argmax:  [4 2 2]\n"
     ]
    }
   ],
   "source": [
    "# column-wise ind\n",
    "ind_c_op = tf.argmax(m, 0)\n",
    "# row-wise ind\n",
    "ind_r_op = tf.argmax(m, 1)\n",
    "\n",
    "print \"column-wise argmax: \", sess.run(ind_c_op)\n",
    "print \"row-wise argmax: \", sess.run(ind_r_op)"
   ]
  },
  {
   "cell_type": "markdown",
   "metadata": {},
   "source": [
    "## tf.rank()\n",
    "Get the rank of a tensor, i.e the dimensionality."
   ]
  },
  {
   "cell_type": "code",
   "execution_count": 4,
   "metadata": {
    "collapsed": false
   },
   "outputs": [
    {
     "name": "stdout",
     "output_type": "stream",
     "text": [
      "rank of m:  2\n"
     ]
    }
   ],
   "source": [
    "rank_op = tf.rank(m)\n",
    "\n",
    "print \"rank of m: \", sess.run(rank_op)"
   ]
  },
  {
   "cell_type": "markdown",
   "metadata": {},
   "source": [
    "## tf.shape()\n",
    "Get the shape of a tensor, return a list."
   ]
  },
  {
   "cell_type": "code",
   "execution_count": 5,
   "metadata": {
    "collapsed": false
   },
   "outputs": [
    {
     "name": "stdout",
     "output_type": "stream",
     "text": [
      "shape:  [3 5]\n"
     ]
    }
   ],
   "source": [
    "shape_op = tf.shape(m)\n",
    "\n",
    "print \"shape: \", sess.run(shape_op)"
   ]
  },
  {
   "cell_type": "code",
   "execution_count": 14,
   "metadata": {
    "collapsed": false
   },
   "outputs": [
    {
     "ename": "ValueError",
     "evalue": "The truth value of an array with more than one element is ambiguous. Use a.any() or a.all()",
     "output_type": "error",
     "traceback": [
      "\u001b[0;31m---------------------------------------------------------------------------\u001b[0m",
      "\u001b[0;31mValueError\u001b[0m                                Traceback (most recent call last)",
      "\u001b[0;32m<ipython-input-14-620e809ee673>\u001b[0m in \u001b[0;36m<module>\u001b[0;34m()\u001b[0m\n\u001b[1;32m      1\u001b[0m \u001b[0;32mimport\u001b[0m \u001b[0mnumpy\u001b[0m \u001b[0;32mas\u001b[0m \u001b[0mnp\u001b[0m\u001b[0;34m\u001b[0m\u001b[0m\n\u001b[1;32m      2\u001b[0m \u001b[0ma\u001b[0m \u001b[0;34m=\u001b[0m \u001b[0mnp\u001b[0m\u001b[0;34m.\u001b[0m\u001b[0marray\u001b[0m\u001b[0;34m(\u001b[0m\u001b[0;34m[\u001b[0m\u001b[0;34m[\u001b[0m\u001b[0;36m2\u001b[0m\u001b[0;34m,\u001b[0m\u001b[0;36m3\u001b[0m\u001b[0;34m,\u001b[0m\u001b[0;36m4\u001b[0m\u001b[0;34m]\u001b[0m\u001b[0;34m]\u001b[0m\u001b[0;34m)\u001b[0m\u001b[0;34m\u001b[0m\u001b[0m\n\u001b[0;32m----> 3\u001b[0;31m \u001b[0;32mprint\u001b[0m \u001b[0mmap\u001b[0m\u001b[0;34m(\u001b[0m\u001b[0;32mlambda\u001b[0m \u001b[0mi\u001b[0m\u001b[0;34m:\u001b[0m \u001b[0;34m'haha'\u001b[0m\u001b[0;34m,\u001b[0m\u001b[0mfilter\u001b[0m\u001b[0;34m(\u001b[0m\u001b[0;32mlambda\u001b[0m \u001b[0mx\u001b[0m\u001b[0;34m:\u001b[0m\u001b[0mx\u001b[0m\u001b[0;34m%\u001b[0m\u001b[0;36m2\u001b[0m\u001b[0;34m==\u001b[0m\u001b[0;36m1\u001b[0m\u001b[0;34m,\u001b[0m \u001b[0ma\u001b[0m\u001b[0;34m)\u001b[0m\u001b[0;34m)\u001b[0m\u001b[0;34m\u001b[0m\u001b[0m\n\u001b[0m",
      "\u001b[0;31mValueError\u001b[0m: The truth value of an array with more than one element is ambiguous. Use a.any() or a.all()"
     ]
    }
   ],
   "source": [
    "import numpy as np\n",
    "a = np.array([[2,3,4]])\n",
    "print map(lambda i: 'haha',filter(lambda x:x%2==1, a))"
   ]
  },
  {
   "cell_type": "markdown",
   "metadata": {
    "collapsed": true
   },
   "source": [
    "## tf.nn.top_k(input, k)\n",
    "Get the top k elements of each row, return the top k elements and indices."
   ]
  },
  {
   "cell_type": "code",
   "execution_count": 16,
   "metadata": {
    "collapsed": false
   },
   "outputs": [
    {
     "name": "stdout",
     "output_type": "stream",
     "text": [
      "[[5 4]\n",
      " [8 7]\n",
      " [5 2]]\n",
      "[[4 3]\n",
      " [2 1]\n",
      " [2 4]]\n"
     ]
    }
   ],
   "source": [
    "values, indices = tf.nn.top_k(m, 2)\n",
    "#sess.run(values)\n",
    "print \"values: \", sess.run(values)\n",
    "print \"indices\", sess.run(indices)"
   ]
  },
  {
   "cell_type": "markdown",
   "metadata": {},
   "source": [
    "However, the result of indices is an np.array with rank 2. We can remove dimensions of size 1 from the shape of a tensor. \n",
    "## tf.squeeze()\n",
    "Say if we wanna reshape m to a row tensor(or array), get the indices of top k."
   ]
  },
  {
   "cell_type": "code",
   "execution_count": 18,
   "metadata": {
    "collapsed": false
   },
   "outputs": [
    {
     "name": "stdout",
     "output_type": "stream",
     "text": [
      "indices:  [[7 6]]\n",
      "squeezed indices:  [7 6]\n"
     ]
    }
   ],
   "source": [
    "values, indices = tf.nn.top_k(tf.reshape(m, [-1, 15]), 2)\n",
    "\n",
    "print \"indices: \", sess.run(indices)\n",
    "print \"squeezed indices: \", sess.run(tf.squeeze(indices))"
   ]
  },
  {
   "cell_type": "markdown",
   "metadata": {
    "collapsed": true
   },
   "source": [
    "***Do not feed softmaxed logits into the seq2seq.sequence_loss_by_example(), which will lead the loss not decreasing.***"
   ]
  },
  {
   "cell_type": "markdown",
   "metadata": {},
   "source": [
    "# TensorFlow with multiple GPUs\n",
    "## Environment Variables Setting\n",
    "Set the visible GPUs for your TensorFlow programs. "
   ]
  },
  {
   "cell_type": "code",
   "execution_count": 1,
   "metadata": {
    "collapsed": false
   },
   "outputs": [
    {
     "name": "stdout",
     "output_type": "stream",
     "text": [
      "[name: \"/cpu:0\"\n",
      "device_type: \"CPU\"\n",
      "memory_limit: 268435456\n",
      "locality {\n",
      "}\n",
      "incarnation: 4667847489145181767\n",
      "]\n"
     ]
    }
   ],
   "source": [
    "import os\n",
    "os.environ[\"CUDA_VISIBLE_DEVICES\"]=\"0\" # set visible GPU IDs, starting from 0 ('0,1' if you have 2 GPUs)\n",
    "\n",
    "\"\"\"Check the visible GPUs within TensorFlow\"\"\"\n",
    "from tensorflow.python.client import device_lib\n",
    "print device_lib.list_local_devices()\n",
    "# TensorFlow here is CPU-only"
   ]
  },
  {
   "cell_type": "code",
   "execution_count": null,
   "metadata": {
    "collapsed": true
   },
   "outputs": [],
   "source": []
  }
 ],
 "metadata": {
  "kernelspec": {
   "display_name": "Python 2",
   "language": "python",
   "name": "python2"
  },
  "language_info": {
   "codemirror_mode": {
    "name": "ipython",
    "version": 2
   },
   "file_extension": ".py",
   "mimetype": "text/x-python",
   "name": "python",
   "nbconvert_exporter": "python",
   "pygments_lexer": "ipython2",
   "version": "2.7.11"
  }
 },
 "nbformat": 4,
 "nbformat_minor": 1
}
