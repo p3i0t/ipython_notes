{
 "cells": [
  {
   "cell_type": "markdown",
   "metadata": {},
   "source": [
    "# Gradients of *max* operation\n",
    "\n",
    "Given a Tensor x, what's the gradients after *max* operation is performed? The gradients on *maxed* elements are 1s, while are 0s for silent elements. We show this by Pytorch."
   ]
  },
  {
   "cell_type": "code",
   "execution_count": 9,
   "metadata": {
    "collapsed": false
   },
   "outputs": [
    {
     "name": "stdout",
     "output_type": "stream",
     "text": [
      "x:  Variable containing:\n",
      " 0  1  2\n",
      " 3  4  5\n",
      "[torch.LongTensor of size 2x3]\n",
      "\n",
      "y:  Variable containing:\n",
      " 7\n",
      "[torch.LongTensor of size 1]\n",
      "\n",
      "x grad before backward:  None\n",
      "x grad after backward:  Variable containing:\n",
      " 0  0  1\n",
      " 0  0  1\n",
      "[torch.LongTensor of size 2x3]\n",
      "\n"
     ]
    }
   ],
   "source": [
    "import torch\n",
    "from torch.autograd import Variable\n",
    "\n",
    "import numpy as np\n",
    "\n",
    "# define a numpy\n",
    "v = np.arange(6).reshape((2, 3))\n",
    "\n",
    "# Create tensor from numpy array\n",
    "x = torch.from_numpy(v)\n",
    "\n",
    "# Pack as a Pytorch Variable\n",
    "x = Variable(x, requires_grad=True)\n",
    "print \"x: \", x\n",
    "\n",
    "# Operate max on x and make a scalar for backward calling by summation \n",
    "y = torch.sum(torch.max(x, dim=1)[0])\n",
    "\n",
    "print \"y: \", y\n",
    "print \"x grad before backward: \", x.grad\n",
    "y.backward()\n",
    "print \"x grad after backward: \", x.grad\n"
   ]
  },
  {
   "cell_type": "code",
   "execution_count": null,
   "metadata": {
    "collapsed": true
   },
   "outputs": [],
   "source": []
  }
 ],
 "metadata": {
  "kernelspec": {
   "display_name": "Python 2",
   "language": "python",
   "name": "python2"
  },
  "language_info": {
   "codemirror_mode": {
    "name": "ipython",
    "version": 2
   },
   "file_extension": ".py",
   "mimetype": "text/x-python",
   "name": "python",
   "nbconvert_exporter": "python",
   "pygments_lexer": "ipython2",
   "version": "2.7.13"
  }
 },
 "nbformat": 4,
 "nbformat_minor": 2
}
