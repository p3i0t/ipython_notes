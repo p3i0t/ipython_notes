{
 "cells": [
  {
   "cell_type": "markdown",
   "metadata": {},
   "source": [
    "# Variants of RNN cells\n",
    "LSTM and GRU are two popular RNN cells now. GRU is more computationally efficient than LSTM without observable performance loss.\n",
    "## LSTM unit\n",
    "An lstm unit has three inputs: input at time slot $t$ $x_{t}$, internal state at time slot $t-1$ $c_{t-1}$, output at time slot $t-1$ $y_{t-1}$.\n",
    "\n",
    "Get forget, input, output gates:\n",
    "$$\n",
    "f_{t}= \\sigma(linear(x_{t}) \\oplus linear(y_{t-1}))\n",
    "$$\n",
    "\n",
    "$$\n",
    "i_{t}= \\sigma(linear(x_{t}) \\oplus linear(y_{t-1}))\n",
    "$$\n",
    "\n",
    "$$\n",
    "o_{t}= \\sigma(linear(x_{t}) \\oplus linear(y_{t-1}))\n",
    "$$\n",
    "Process the input:\n",
    "$$\n",
    "c\\_in = \\tanh(linear(x_{t}) \\oplus linear(y_{t-1}))\n",
    "$$\n",
    "update internal state $c_t$:\n",
    "$$\n",
    "c_t = f_{t} \\odot c_{t-1} \\oplus i_{t} \\odot c\\_in\n",
    "$$\n",
    "Control the output:\n",
    "$$\n",
    "y_{t} = o_{t} \\odot \\tanh(c_t)\n",
    "$$\n",
    "\n",
    "## GRU unit\n",
    "Get the update, reset gates:\n",
    "$$\n",
    "z_{i} = \\sigma(linear(x_{t}) \\oplus linear(y_{t-1}))\n",
    "$$\n",
    "\n",
    "$$\n",
    "r_{i} = \\sigma(linear(x_{t}) \\oplus linear(y_{t-1}))\n",
    "$$\n",
    "The candidate activiation:\n",
    "$$\n",
    "\\tilde{y_{t}} = \\tanh(linear(x_{t}) \\oplus linear(r_{i}*y_{t-1})) \n",
    "$$\n",
    "Get the updated output:\n",
    "$$\n",
    "y_{t} = (1 - z_{i})\\odot y_{t-1} \\oplus z_{i} \\odot \\tilde{y_{t}}\n",
    "$$\n",
    "\n",
    "\n",
    "*Note:*$\\odot$ and $\\oplus$ are element-wise computation.\n",
    "\n",
    "In TensorFlow, a typical RNN cell return (output, hidden\\_state). A LSTM cell returns ($y_t$,$c_t$), while a GRU cell returns ($y_{t}$, $y_{t}$). \n",
    "\n",
    "As to the $linear$ transformation, it takes a list of 2D, [batch, n], tensors. For each sample, the total dimemsion of it is [1,sum(n\\_i)], and the transformation matrix W is in [sum(n\\_i), output\\_size]. After transformation, the output is in output\\_size."
   ]
  },
  {
   "cell_type": "code",
   "execution_count": null,
   "metadata": {
    "collapsed": true
   },
   "outputs": [],
   "source": []
  }
 ],
 "metadata": {
  "kernelspec": {
   "display_name": "Python 2",
   "language": "python",
   "name": "python2"
  },
  "language_info": {
   "codemirror_mode": {
    "name": "ipython",
    "version": 2
   },
   "file_extension": ".py",
   "mimetype": "text/x-python",
   "name": "python",
   "nbconvert_exporter": "python",
   "pygments_lexer": "ipython2",
   "version": "2.7.11"
  }
 },
 "nbformat": 4,
 "nbformat_minor": 1
}
